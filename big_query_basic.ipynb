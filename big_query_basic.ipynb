{
 "cells": [
  {
   "cell_type": "markdown",
   "id": "55f6484b-d7de-416f-a587-3426d55988aa",
   "metadata": {},
   "source": [
    "# Big Query Basics"
   ]
  },
  {
   "cell_type": "markdown",
   "id": "1639b3f5-2577-42c8-8ed6-e1e4c40b51d0",
   "metadata": {},
   "source": [
    "A Tutorial to use Big Query\n",
    "\n",
    "- Load csv from local and write a example Table to Big Query"
   ]
  },
  {
   "cell_type": "code",
   "execution_count": 3,
   "id": "82e2f7ca-22ce-47bb-aa40-3f11bbb77316",
   "metadata": {},
   "outputs": [],
   "source": [
    "import pandas as pd\n",
    "from google.cloud import bigquery"
   ]
  },
  {
   "cell_type": "markdown",
   "id": "b56884f4-7d8a-4510-a0ae-550669b5b9ce",
   "metadata": {},
   "source": [
    "## 1. Read example data(csv)"
   ]
  },
  {
   "cell_type": "code",
   "execution_count": 4,
   "id": "cdb4e88c-ce95-4b09-b52f-c92b57a9ae1f",
   "metadata": {
    "tags": []
   },
   "outputs": [
    {
     "data": {
      "text/html": [
       "<div>\n",
       "<style scoped>\n",
       "    .dataframe tbody tr th:only-of-type {\n",
       "        vertical-align: middle;\n",
       "    }\n",
       "\n",
       "    .dataframe tbody tr th {\n",
       "        vertical-align: top;\n",
       "    }\n",
       "\n",
       "    .dataframe thead th {\n",
       "        text-align: right;\n",
       "    }\n",
       "</style>\n",
       "<table border=\"1\" class=\"dataframe\">\n",
       "  <thead>\n",
       "    <tr style=\"text-align: right;\">\n",
       "      <th></th>\n",
       "      <th>loan_amnt</th>\n",
       "      <th>term</th>\n",
       "      <th>int_rate</th>\n",
       "      <th>installment</th>\n",
       "      <th>grade</th>\n",
       "      <th>sub_grade</th>\n",
       "      <th>emp_title</th>\n",
       "      <th>emp_length</th>\n",
       "      <th>home_ownership</th>\n",
       "      <th>annual_inc</th>\n",
       "      <th>...</th>\n",
       "      <th>open_acc</th>\n",
       "      <th>pub_rec</th>\n",
       "      <th>revol_bal</th>\n",
       "      <th>revol_util</th>\n",
       "      <th>total_acc</th>\n",
       "      <th>initial_list_status</th>\n",
       "      <th>application_type</th>\n",
       "      <th>mort_acc</th>\n",
       "      <th>pub_rec_bankruptcies</th>\n",
       "      <th>address</th>\n",
       "    </tr>\n",
       "  </thead>\n",
       "  <tbody>\n",
       "    <tr>\n",
       "      <th>0</th>\n",
       "      <td>72</td>\n",
       "      <td>NaN</td>\n",
       "      <td>NaN</td>\n",
       "      <td>NaN</td>\n",
       "      <td>NaN</td>\n",
       "      <td>NaN</td>\n",
       "      <td>NaN</td>\n",
       "      <td>NaN</td>\n",
       "      <td>NaN</td>\n",
       "      <td>NaN</td>\n",
       "      <td>...</td>\n",
       "      <td>NaN</td>\n",
       "      <td>NaN</td>\n",
       "      <td>NaN</td>\n",
       "      <td>NaN</td>\n",
       "      <td>NaN</td>\n",
       "      <td>NaN</td>\n",
       "      <td>NaN</td>\n",
       "      <td>NaN</td>\n",
       "      <td>NaN</td>\n",
       "      <td>NaN</td>\n",
       "    </tr>\n",
       "    <tr>\n",
       "      <th>1</th>\n",
       "      <td>6000</td>\n",
       "      <td>36 months</td>\n",
       "      <td>8.00</td>\n",
       "      <td>188.02</td>\n",
       "      <td>A</td>\n",
       "      <td>A3</td>\n",
       "      <td>KS construction</td>\n",
       "      <td>10+ years</td>\n",
       "      <td>OTHER</td>\n",
       "      <td>160000.0</td>\n",
       "      <td>...</td>\n",
       "      <td>6.0</td>\n",
       "      <td>0.0</td>\n",
       "      <td>3713.0</td>\n",
       "      <td>22.8</td>\n",
       "      <td>13.0</td>\n",
       "      <td>f</td>\n",
       "      <td>INDIVIDUAL</td>\n",
       "      <td>NaN</td>\n",
       "      <td>0.0</td>\n",
       "      <td>77917 David Park\\r\\nCynthiashire, SC 00813</td>\n",
       "    </tr>\n",
       "    <tr>\n",
       "      <th>2</th>\n",
       "      <td>23575</td>\n",
       "      <td>36 months</td>\n",
       "      <td>14.50</td>\n",
       "      <td>640.24</td>\n",
       "      <td>E</td>\n",
       "      <td>E2</td>\n",
       "      <td>Cleveland Country Club</td>\n",
       "      <td>3 years</td>\n",
       "      <td>RENT</td>\n",
       "      <td>75000.0</td>\n",
       "      <td>...</td>\n",
       "      <td>10.0</td>\n",
       "      <td>0.0</td>\n",
       "      <td>32682.0</td>\n",
       "      <td>96.1</td>\n",
       "      <td>26.0</td>\n",
       "      <td>f</td>\n",
       "      <td>INDIVIDUAL</td>\n",
       "      <td>NaN</td>\n",
       "      <td>0.0</td>\n",
       "      <td>07378 Daugherty Crossroad\\r\\nNorth Janicebury,...</td>\n",
       "    </tr>\n",
       "    <tr>\n",
       "      <th>3</th>\n",
       "      <td>8400</td>\n",
       "      <td>36 months</td>\n",
       "      <td>14.50</td>\n",
       "      <td>289.14</td>\n",
       "      <td>E</td>\n",
       "      <td>E2</td>\n",
       "      <td>Department of Corrections</td>\n",
       "      <td>&lt; 1 year</td>\n",
       "      <td>RENT</td>\n",
       "      <td>50000.0</td>\n",
       "      <td>...</td>\n",
       "      <td>10.0</td>\n",
       "      <td>0.0</td>\n",
       "      <td>19056.0</td>\n",
       "      <td>69.0</td>\n",
       "      <td>10.0</td>\n",
       "      <td>f</td>\n",
       "      <td>INDIVIDUAL</td>\n",
       "      <td>NaN</td>\n",
       "      <td>0.0</td>\n",
       "      <td>4573 Marquez Center Apt. 541\\r\\nNew Melissa, I...</td>\n",
       "    </tr>\n",
       "    <tr>\n",
       "      <th>4</th>\n",
       "      <td>24000</td>\n",
       "      <td>36 months</td>\n",
       "      <td>16.08</td>\n",
       "      <td>492.76</td>\n",
       "      <td>F</td>\n",
       "      <td>F2</td>\n",
       "      <td>U.S. Federal Government</td>\n",
       "      <td>10+ years</td>\n",
       "      <td>MORTGAGE</td>\n",
       "      <td>105900.0</td>\n",
       "      <td>...</td>\n",
       "      <td>21.0</td>\n",
       "      <td>0.0</td>\n",
       "      <td>33627.0</td>\n",
       "      <td>74.7</td>\n",
       "      <td>61.0</td>\n",
       "      <td>f</td>\n",
       "      <td>INDIVIDUAL</td>\n",
       "      <td>NaN</td>\n",
       "      <td>0.0</td>\n",
       "      <td>PSC 3158, Box 6288\\r\\nAPO AE 48052</td>\n",
       "    </tr>\n",
       "  </tbody>\n",
       "</table>\n",
       "<p>5 rows × 27 columns</p>\n",
       "</div>"
      ],
      "text/plain": [
       "   loan_amnt        term  int_rate  installment grade sub_grade  \\\n",
       "0         72         NaN       NaN          NaN   NaN       NaN   \n",
       "1       6000   36 months      8.00       188.02     A        A3   \n",
       "2      23575   36 months     14.50       640.24     E        E2   \n",
       "3       8400   36 months     14.50       289.14     E        E2   \n",
       "4      24000   36 months     16.08       492.76     F        F2   \n",
       "\n",
       "                   emp_title emp_length home_ownership  annual_inc  ...  \\\n",
       "0                        NaN        NaN            NaN         NaN  ...   \n",
       "1            KS construction  10+ years          OTHER    160000.0  ...   \n",
       "2     Cleveland Country Club    3 years           RENT     75000.0  ...   \n",
       "3  Department of Corrections   < 1 year           RENT     50000.0  ...   \n",
       "4    U.S. Federal Government  10+ years       MORTGAGE    105900.0  ...   \n",
       "\n",
       "  open_acc pub_rec revol_bal revol_util total_acc  initial_list_status  \\\n",
       "0      NaN     NaN       NaN        NaN       NaN                  NaN   \n",
       "1      6.0     0.0    3713.0       22.8      13.0                    f   \n",
       "2     10.0     0.0   32682.0       96.1      26.0                    f   \n",
       "3     10.0     0.0   19056.0       69.0      10.0                    f   \n",
       "4     21.0     0.0   33627.0       74.7      61.0                    f   \n",
       "\n",
       "  application_type  mort_acc  pub_rec_bankruptcies  \\\n",
       "0              NaN       NaN                   NaN   \n",
       "1       INDIVIDUAL       NaN                   0.0   \n",
       "2       INDIVIDUAL       NaN                   0.0   \n",
       "3       INDIVIDUAL       NaN                   0.0   \n",
       "4       INDIVIDUAL       NaN                   0.0   \n",
       "\n",
       "                                             address  \n",
       "0                                                NaN  \n",
       "1         77917 David Park\\r\\nCynthiashire, SC 00813  \n",
       "2  07378 Daugherty Crossroad\\r\\nNorth Janicebury,...  \n",
       "3  4573 Marquez Center Apt. 541\\r\\nNew Melissa, I...  \n",
       "4                 PSC 3158, Box 6288\\r\\nAPO AE 48052  \n",
       "\n",
       "[5 rows x 27 columns]"
      ]
     },
     "execution_count": 4,
     "metadata": {},
     "output_type": "execute_result"
    }
   ],
   "source": [
    "csv_file = \"lending_club_loan_two_data.csv\"\n",
    "df = pd.read_csv(csv_file)\n",
    "df.head()"
   ]
  },
  {
   "cell_type": "markdown",
   "id": "eb8556e2-4803-4db4-b2a2-9d288db98b2d",
   "metadata": {},
   "source": [
    "## 2. Create a Big Query client"
   ]
  },
  {
   "cell_type": "markdown",
   "id": "272b505b-0bd7-4c25-b01b-bc5d52189c84",
   "metadata": {},
   "source": [
    "Create a client to connect with Big Query"
   ]
  },
  {
   "cell_type": "code",
   "execution_count": 5,
   "id": "77bce2e3-96fc-4909-97e2-2ad11c070ea6",
   "metadata": {},
   "outputs": [
    {
     "name": "stdout",
     "output_type": "stream",
     "text": [
      "Client creating using default project: cdcda-lab\n"
     ]
    }
   ],
   "source": [
    "client = bigquery.Client(location=\"US\")\n",
    "print(\"Client creating using default project: {}\".format(client.project))"
   ]
  },
  {
   "cell_type": "markdown",
   "id": "091e85cb-9e0b-44d3-a7f0-e9598f4357e0",
   "metadata": {},
   "source": [
    "## 3. Create a new dataset"
   ]
  },
  {
   "cell_type": "code",
   "execution_count": null,
   "id": "fcd327e8-de79-47fe-b6d4-47bbea785c1f",
   "metadata": {},
   "outputs": [],
   "source": [
    "# Define a name for the new dataset.\n",
    "dataset_id = 'lending_club_loan_two'\n",
    "\n",
    "# The project defaults to the Client's project if not specified.\n",
    "dataset = client.create_dataset(dataset_id)  # API request"
   ]
  },
  {
   "cell_type": "markdown",
   "id": "ee9e00d6-2dad-4244-9944-1effb9ac04eb",
   "metadata": {},
   "source": [
    "## 4. Write table into dataset"
   ]
  },
  {
   "cell_type": "code",
   "execution_count": null,
   "id": "e5057139-3273-4dcd-a603-c86a2fc8aff1",
   "metadata": {},
   "outputs": [],
   "source": [
    "table_ref = dataset.table(\"lending_club_loan_two_data\")\n",
    "job = client.load_table_from_dataframe(df, table_ref, location=\"US\")\n",
    "\n",
    "job.result()  # Waits for table load to complete.\n",
    "print(\"Loaded dataframe to {}\".format(table_ref.path))"
   ]
  },
  {
   "cell_type": "code",
   "execution_count": null,
   "id": "c52d5b84-f581-4d97-8bd7-a4fd3854735b",
   "metadata": {},
   "outputs": [],
   "source": []
  }
 ],
 "metadata": {
  "environment": {
   "kernel": "python3",
   "name": "common-cpu.m82",
   "type": "gcloud",
   "uri": "gcr.io/deeplearning-platform-release/base-cpu:m82"
  },
  "kernelspec": {
   "display_name": "Python 3",
   "language": "python",
   "name": "python3"
  },
  "language_info": {
   "codemirror_mode": {
    "name": "ipython",
    "version": 3
   },
   "file_extension": ".py",
   "mimetype": "text/x-python",
   "name": "python",
   "nbconvert_exporter": "python",
   "pygments_lexer": "ipython3",
   "version": "3.7.10"
  }
 },
 "nbformat": 4,
 "nbformat_minor": 5
}
