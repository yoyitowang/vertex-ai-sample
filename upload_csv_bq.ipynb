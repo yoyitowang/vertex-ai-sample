{
 "cells": [
  {
   "cell_type": "code",
   "execution_count": null,
   "id": "82e2f7ca-22ce-47bb-aa40-3f11bbb77316",
   "metadata": {},
   "outputs": [],
   "source": [
    "import pandas as pd\n",
    "from google.cloud import bigquery"
   ]
  },
  {
   "cell_type": "markdown",
   "id": "b56884f4-7d8a-4510-a0ae-550669b5b9ce",
   "metadata": {},
   "source": [
    "# load .csv from local"
   ]
  },
  {
   "cell_type": "code",
   "execution_count": null,
   "id": "cdb4e88c-ce95-4b09-b52f-c92b57a9ae1f",
   "metadata": {
    "tags": []
   },
   "outputs": [],
   "source": [
    "csv_file = \"lending_club_loan_two_data.csv\"\n",
    "df = pd.read_csv(csv_file)\n",
    "df.head()"
   ]
  },
  {
   "cell_type": "markdown",
   "id": "eb8556e2-4803-4db4-b2a2-9d288db98b2d",
   "metadata": {},
   "source": [
    "# create bq client"
   ]
  },
  {
   "cell_type": "code",
   "execution_count": null,
   "id": "77bce2e3-96fc-4909-97e2-2ad11c070ea6",
   "metadata": {},
   "outputs": [],
   "source": [
    "client = bigquery.Client(location=\"US\")\n",
    "print(\"Client creating using default project: {}\".format(client.project))"
   ]
  },
  {
   "cell_type": "markdown",
   "id": "091e85cb-9e0b-44d3-a7f0-e9598f4357e0",
   "metadata": {},
   "source": [
    "# create new dataset"
   ]
  },
  {
   "cell_type": "code",
   "execution_count": null,
   "id": "fcd327e8-de79-47fe-b6d4-47bbea785c1f",
   "metadata": {},
   "outputs": [],
   "source": [
    "# Define a name for the new dataset.\n",
    "dataset_id = 'lending_club_loan_two'\n",
    "\n",
    "# The project defaults to the Client's project if not specified.\n",
    "dataset = client.create_dataset(dataset_id)  # API request"
   ]
  },
  {
   "cell_type": "markdown",
   "id": "ee9e00d6-2dad-4244-9944-1effb9ac04eb",
   "metadata": {},
   "source": [
    "# write from dataframe"
   ]
  },
  {
   "cell_type": "code",
   "execution_count": null,
   "id": "e5057139-3273-4dcd-a603-c86a2fc8aff1",
   "metadata": {},
   "outputs": [],
   "source": [
    "table_ref = dataset.table(\"lending_club_loan_two_data\")\n",
    "job = client.load_table_from_dataframe(df, table_ref, location=\"US\")\n",
    "\n",
    "job.result()  # Waits for table load to complete.\n",
    "print(\"Loaded dataframe to {}\".format(table_ref.path))"
   ]
  },
  {
   "cell_type": "code",
   "execution_count": null,
   "id": "c52d5b84-f581-4d97-8bd7-a4fd3854735b",
   "metadata": {},
   "outputs": [],
   "source": []
  }
 ],
 "metadata": {
  "environment": {
   "name": "common-cpu.m81",
   "type": "gcloud",
   "uri": "gcr.io/deeplearning-platform-release/base-cpu:m81"
  },
  "kernelspec": {
   "display_name": "Python 3",
   "language": "python",
   "name": "python3"
  },
  "language_info": {
   "codemirror_mode": {
    "name": "ipython",
    "version": 3
   },
   "file_extension": ".py",
   "mimetype": "text/x-python",
   "name": "python",
   "nbconvert_exporter": "python",
   "pygments_lexer": "ipython3",
   "version": "3.7.10"
  }
 },
 "nbformat": 4,
 "nbformat_minor": 5
}
