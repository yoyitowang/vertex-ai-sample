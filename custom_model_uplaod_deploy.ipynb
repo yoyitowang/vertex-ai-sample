{
 "cells": [
  {
   "cell_type": "markdown",
   "id": "fd31fdec",
   "metadata": {},
   "source": [
    "# Custom model example"
   ]
  },
  {
   "cell_type": "code",
   "execution_count": null,
   "id": "87bf4a92",
   "metadata": {},
   "outputs": [],
   "source": [
    "from sklearn import datasets\n",
    "from xgboost import XGBClassifier\n",
    "from sklearn.model_selection import train_test_split\n",
    "from sklearn.metrics import accuracy_score\n",
    "\n",
    "# load datasets\n",
    "digits = datasets.load_digits()\n",
    "X = digits.data\n",
    "y = digits.target\n",
    "X_train, X_test, y_train, y_test = train_test_split(X, y, test_size=0.2, random_state=42)\n",
    "\n",
    "# model training\n",
    "model = XGBClassifier()\n",
    "model.fit(X_train, y_train)\n",
    "\n",
    "# predict score\n",
    "y_pred = model.predict(X_test)\n",
    "accuracy = accuracy_score(y_test, y_pred)\n",
    "print(\"Accuracy: %.2f%%\" % (accuracy * 100.0))\n",
    "\n",
    "# Save model artifact to local filesystem (doesn't persist)\n",
    "artifact_filename = 'model.bst'\n",
    "local_path = artifact_filename\n",
    "model.save_model(local_path)"
   ]
  },
  {
   "cell_type": "markdown",
   "id": "114f445a",
   "metadata": {
    "tags": []
   },
   "source": [
    "# Upload model to GCS"
   ]
  },
  {
   "cell_type": "code",
   "execution_count": null,
   "id": "3226b6a9-9c13-4167-b04b-b1d6b506885a",
   "metadata": {},
   "outputs": [],
   "source": [
    "bucket_name = 'cathay-test'\n",
    "gcs = 'gs://' + bucket_name"
   ]
  },
  {
   "cell_type": "markdown",
   "id": "dcc9ad15-0762-41a0-ae8b-731aac6f28f4",
   "metadata": {},
   "source": [
    "## create bucket"
   ]
  },
  {
   "cell_type": "code",
   "execution_count": null,
   "id": "0059057e-1ef5-4689-9a44-22415ddbc6ec",
   "metadata": {},
   "outputs": [],
   "source": [
    "# !gsutil mb -l us-central1 $bucket_name"
   ]
  },
  {
   "cell_type": "markdown",
   "id": "e8d53c0c-1768-4868-845f-25f4ccfbf4c3",
   "metadata": {},
   "source": [
    "## Upload model artifact to Cloud Storage"
   ]
  },
  {
   "cell_type": "code",
   "execution_count": null,
   "id": "a59e387c",
   "metadata": {},
   "outputs": [],
   "source": [
    "from google.cloud import storage\n",
    "import os\n",
    "\n",
    "model_directory = f'{gcs}/' + 'models' + '/' + 'xgboost'\n",
    "storage_path = os.path.join(model_directory, artifact_filename)\n",
    "blob = storage.blob.Blob.from_string(storage_path, client=storage.Client())\n",
    "blob.upload_from_filename(local_path)"
   ]
  },
  {
   "cell_type": "markdown",
   "id": "4dcbe37e",
   "metadata": {},
   "source": [
    "# Upload model to Vertex AI Platform"
   ]
  },
  {
   "cell_type": "code",
   "execution_count": null,
   "id": "5dbfd630",
   "metadata": {},
   "outputs": [],
   "source": [
    "project = 'cathay-test'\n",
    "location = 'us-central1'\n",
    "display_name = 'digits-xgboost-v1'\n",
    "serving_container_image_uri = 'us-docker.pkg.dev/vertex-ai/prediction/xgboost-cpu.1-4:latest'\n",
    "artifact_uri = model_directory"
   ]
  },
  {
   "cell_type": "code",
   "execution_count": null,
   "id": "a4ebac5a",
   "metadata": {},
   "outputs": [],
   "source": [
    "from utils import upload_model_sample\n",
    "\n",
    "model = upload_model_sample.upload_model_sample(\n",
    "    project=project,\n",
    "    location=location,\n",
    "    display_name=display_name,\n",
    "    serving_container_image_uri=serving_container_image_uri,\n",
    "    artifact_uri=artifact_uri\n",
    ")\n",
    "model"
   ]
  },
  {
   "cell_type": "code",
   "execution_count": null,
   "id": "41f51ff4",
   "metadata": {},
   "outputs": [],
   "source": [
    "deployment = model.deploy(\n",
    "    deployed_model_display_name = 'serving-digits-xgboost-v1',\n",
    "    machine_type = 'n1-standard-2',\n",
    ")\n",
    "deployment"
   ]
  },
  {
   "cell_type": "code",
   "execution_count": null,
   "id": "817b5397-350b-4bfb-8de3-8ee026c5c78e",
   "metadata": {},
   "outputs": [],
   "source": []
  }
 ],
 "metadata": {
  "environment": {
   "name": "common-cpu.m81",
   "type": "gcloud",
   "uri": "gcr.io/deeplearning-platform-release/base-cpu:m81"
  },
  "kernelspec": {
   "display_name": "Python 3",
   "language": "python",
   "name": "python3"
  },
  "language_info": {
   "codemirror_mode": {
    "name": "ipython",
    "version": 3
   },
   "file_extension": ".py",
   "mimetype": "text/x-python",
   "name": "python",
   "nbconvert_exporter": "python",
   "pygments_lexer": "ipython3",
   "version": "3.7.10"
  }
 },
 "nbformat": 4,
 "nbformat_minor": 5
}
