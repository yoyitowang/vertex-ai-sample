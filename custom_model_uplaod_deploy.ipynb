{
 "cells": [
  {
   "cell_type": "markdown",
   "id": "efcf0846-1ba5-4a42-8d02-44153c60e9ec",
   "metadata": {},
   "source": [
    "# Import model to Vertex AI\n",
    "This notebook-based tutorial will create a example Xgboost model and deploy model on Vertex AI.\n",
    "\n",
    "It contains:\n",
    "\n",
    "- 1. Create a Xgboost model\n",
    "- 2. Upload model to GCS\n",
    "- 3. Import model to Vertex AI and deploy"
   ]
  },
  {
   "cell_type": "markdown",
   "id": "51284212-ced0-472f-b051-7192c6f31af3",
   "metadata": {},
   "source": [
    "# Setting up"
   ]
  },
  {
   "cell_type": "code",
   "execution_count": null,
   "id": "fd1ae86e-e94f-41d3-b4de-876ba043cfbf",
   "metadata": {},
   "outputs": [],
   "source": [
    "# !pip install xgboost"
   ]
  },
  {
   "cell_type": "markdown",
   "id": "fd31fdec",
   "metadata": {
    "tags": []
   },
   "source": [
    "## 1. Create a Xgboost model with digits datasets"
   ]
  },
  {
   "cell_type": "code",
   "execution_count": null,
   "id": "87bf4a92",
   "metadata": {},
   "outputs": [],
   "source": [
    "from sklearn import datasets\n",
    "from xgboost import XGBClassifier\n",
    "from sklearn.model_selection import train_test_split\n",
    "from sklearn.metrics import accuracy_score\n",
    "\n",
    "# load datasets\n",
    "digits = datasets.load_digits()\n",
    "X = digits.data\n",
    "y = digits.target\n",
    "X_train, X_test, y_train, y_test = train_test_split(X, y, test_size=0.2, random_state=42)\n",
    "\n",
    "# model training\n",
    "model = XGBClassifier()\n",
    "model.fit(X_train, y_train)\n",
    "\n",
    "# predict score\n",
    "y_pred = model.predict(X_test)\n",
    "accuracy = accuracy_score(y_test, y_pred)\n",
    "print(\"Accuracy: %.2f%%\" % (accuracy * 100.0))\n",
    "\n",
    "# Save model artifact to local filesystem (doesn't persist)\n",
    "artifact_filename = 'model.bst'\n",
    "local_path = artifact_filename\n",
    "model.save_model(local_path)"
   ]
  },
  {
   "cell_type": "markdown",
   "id": "114f445a",
   "metadata": {
    "tags": []
   },
   "source": [
    "## 2. Upload model to GCS"
   ]
  },
  {
   "cell_type": "markdown",
   "id": "fbde8958-875c-4928-9bb7-5fad1741c287",
   "metadata": {},
   "source": [
    "Setting up bucket"
   ]
  },
  {
   "cell_type": "code",
   "execution_count": null,
   "id": "3226b6a9-9c13-4167-b04b-b1d6b506885a",
   "metadata": {},
   "outputs": [],
   "source": [
    "bucket_name = ''\n",
    "gcs = 'gs://' + bucket_name\n",
    "model_directory = f'{gcs}/' + 'models' + '/' + 'xgboost'"
   ]
  },
  {
   "cell_type": "markdown",
   "id": "dcc9ad15-0762-41a0-ae8b-731aac6f28f4",
   "metadata": {},
   "source": [
    "Create a bucket to store model"
   ]
  },
  {
   "cell_type": "code",
   "execution_count": null,
   "id": "0059057e-1ef5-4689-9a44-22415ddbc6ec",
   "metadata": {},
   "outputs": [],
   "source": [
    "!gsutil mb -l us-central1 $bucket_name"
   ]
  },
  {
   "cell_type": "markdown",
   "id": "e8d53c0c-1768-4868-845f-25f4ccfbf4c3",
   "metadata": {},
   "source": [
    "Upload model artifact to Cloud Storage"
   ]
  },
  {
   "cell_type": "code",
   "execution_count": null,
   "id": "a59e387c",
   "metadata": {},
   "outputs": [],
   "source": [
    "from google.cloud import storage\n",
    "import os\n",
    "\n",
    "storage_path = os.path.join(model_directory, artifact_filename)\n",
    "blob = storage.blob.Blob.from_string(storage_path, client=storage.Client())\n",
    "blob.upload_from_filename(local_path)"
   ]
  },
  {
   "cell_type": "markdown",
   "id": "4dcbe37e",
   "metadata": {},
   "source": [
    "## 3. Import model to Vertex AI and deploy"
   ]
  },
  {
   "cell_type": "code",
   "execution_count": null,
   "id": "5dbfd630",
   "metadata": {},
   "outputs": [],
   "source": [
    "project = ''\n",
    "location = 'us-central1'\n",
    "display_name = 'digits-xgboost-v1'\n",
    "serving_container_image_uri = 'us-docker.pkg.dev/vertex-ai/prediction/xgboost-cpu.1-4:latest'"
   ]
  },
  {
   "cell_type": "markdown",
   "id": "82f25acc-8c81-49e3-81be-1186ec8bf05d",
   "metadata": {},
   "source": [
    "Import model to Vertex AI"
   ]
  },
  {
   "cell_type": "code",
   "execution_count": null,
   "id": "a4ebac5a",
   "metadata": {},
   "outputs": [],
   "source": [
    "from utils import upload_model_sample\n",
    "\n",
    "model = upload_model_sample.upload_model_sample(\n",
    "    project=project,\n",
    "    location=location,\n",
    "    display_name=display_name,\n",
    "    serving_container_image_uri=serving_container_image_uri,\n",
    "    artifact_uri=model_directory\n",
    ")"
   ]
  },
  {
   "cell_type": "markdown",
   "id": "5f0e7366-c2ff-4e0c-960c-5c089368aab8",
   "metadata": {},
   "source": [
    "Check ['Vertex AI > Models'](https://console.cloud.google.com/vertex-ai/models)"
   ]
  },
  {
   "cell_type": "code",
   "execution_count": null,
   "id": "41f51ff4",
   "metadata": {},
   "outputs": [],
   "source": [
    "deployment = model.deploy(\n",
    "    deployed_model_display_name = 'serving-digits-xgboost-v1',\n",
    "    machine_type = 'n1-standard-2',\n",
    ")"
   ]
  },
  {
   "cell_type": "markdown",
   "id": "97e365a5-19db-4e97-8347-4d9183f4b1db",
   "metadata": {},
   "source": [
    "Check ['Vertex AI > Endpoints'](https://console.cloud.google.com/vertex-ai/endpoints)"
   ]
  },
  {
   "cell_type": "markdown",
   "id": "17f9ab82-708d-4782-954d-a73cbf9d839f",
   "metadata": {},
   "source": [
    "# Clean up"
   ]
  },
  {
   "cell_type": "markdown",
   "id": "676750bf-b4e2-4db4-b7fb-d40b7fcb4f79",
   "metadata": {},
   "source": [
    "To clean up all Google Cloud resource used in this project"
   ]
  },
  {
   "cell_type": "code",
   "execution_count": null,
   "id": "102bfccd-e79f-4e75-b831-859c2f790de1",
   "metadata": {},
   "outputs": [],
   "source": [
    "deployment.undeploy_all()\n",
    "deployment.delete()\n",
    "!gsutil rm -rf gs://${model_directory}"
   ]
  },
  {
   "cell_type": "code",
   "execution_count": null,
   "id": "53b02de2-baf8-4182-b13c-25e7e6edae5d",
   "metadata": {},
   "outputs": [],
   "source": []
  }
 ],
 "metadata": {
  "environment": {
   "kernel": "python3",
   "name": "common-cpu.m82",
   "type": "gcloud",
   "uri": "gcr.io/deeplearning-platform-release/base-cpu:m82"
  },
  "kernelspec": {
   "display_name": "Python 3",
   "language": "python",
   "name": "python3"
  },
  "language_info": {
   "codemirror_mode": {
    "name": "ipython",
    "version": 3
   },
   "file_extension": ".py",
   "mimetype": "text/x-python",
   "name": "python",
   "nbconvert_exporter": "python",
   "pygments_lexer": "ipython3",
   "version": "3.7.10"
  }
 },
 "nbformat": 4,
 "nbformat_minor": 5
}
